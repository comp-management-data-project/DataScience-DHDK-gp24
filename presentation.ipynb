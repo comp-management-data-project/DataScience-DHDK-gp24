{
 "cells": [
  {
   "cell_type": "markdown",
   "metadata": {},
   "source": [
    "# __Project presentation__\n",
    "\n",
    "Here we present our end-of-the-course project for [Data Science](https://www.unibo.it/en/study/phd-professional-masters-specialisation-schools-and-other-programmes/course-unit-catalogue/course-unit/2023/467046), a module of the integrated course in  Computational Management of Data (I.C.), aa 2023/2024, [DhDk](https://corsi.unibo.it/2cycle/DigitalHumanitiesKnowledge) unibo.\n",
    "\n",
    "<div class=\"alert alert-block alert-info\">\n",
    "<ul><i>Collaborators:</i> <br>\n",
    "<li>Hubert Krzywonos - hubert.krzywonos@studio.unibo.it</li>\n",
    "<li>Mohamed Iheb Ouerghi - mohamediheb.ouerghi@studio.unibo.it</li>\n",
    "<li>Giorgia Umana - giorgia.umana@studio.unibo.it</li>\n",
    "<li>Lucrezia Pograri - lucrezia.pograri@studio.unibo.it</li></ul></div>"
   ]
  },
  {
   "cell_type": "markdown",
   "metadata": {},
   "source": [
    "## `Cultural Objects` classes"
   ]
  },
  {
   "cell_type": "markdown",
   "metadata": {},
   "source": [
    "The following classes provide a structured way to represent various types of cultural heritage objects and their attributes within a Python-based system."
   ]
  },
  {
   "cell_type": "markdown",
   "metadata": {},
   "source": [
    "<ul>\n",
    "<li>IdentifiableEntity (superclass):<br>\n",
    "This class represents an entity that can be identified uniquely by an ID. It serves as the base class for other identifiable entities in the system.</li>\n",
    "<li>Person (inherits from IdentifiableEntity):<br>\n",
    "Person represents an individual with a name and an identifier. It inherits the identification functionality from IdentifiableEntity and adds a name attribute.</li>\n",
    "<li>CulturalHeritageObject (inherits from IdentifiableEntity):<br>\n",
    "CulturalHeritageObject represents an object of cultural heritage with attributes such as title, date, owner, place, and authors. It inherits the identification functionality from IdentifiableEntity and adds additional attributes specific to cultural heritage objects.</li>\n",
    "<li>NauticalChart (inherits from CulturalHeritageObject):<br>\n",
    "Represents a nautical chart, a subtype of CulturalHeritageObject.</li>\n",
    "<li>ManuscriptPlate (inherits from CulturalHeritageObject):<br>\n",
    "Represents a manuscript plate, a subtype of CulturalHeritageObject.</li>\n",
    "<li>ManuscriptVolume (inherits from CulturalHeritageObject):<br>\n",
    "Represents a manuscript volume, a subtype of CulturalHeritageObject.</li>\n",
    "<li>PrintedVolume (inherits from CulturalHeritageObject):<br>\n",
    "Represents a printed volume, a subtype of CulturalHeritageObject.</li>\n",
    "<li>PrintedMaterial (inherits from CulturalHeritageObject):<br>\n",
    "Represents a printed material, a subtype of CulturalHeritageObject.</li>\n",
    "<li>Herbarium (inherits from CulturalHeritageObject):<br>\n",
    "Represents a herbarium, a subtype of CulturalHeritageObject.</li>\n",
    "<li>Specimen (inherits from CulturalHeritageObject):<br>\n",
    "Represents a specimen, a subtype of CulturalHeritageObject.</li>\n",
    "<li>Painting (inherits from CulturalHeritageObject):<br>\n",
    "Represents a painting, a subtype of CulturalHeritageObject.</li>\n",
    "<li>Model (inherits from CulturalHeritageObject):<br>\n",
    "Represents a model, a subtype of CulturalHeritageObject.</li>\n",
    "<li>Map (inherits from CulturalHeritageObject):<br>\n",
    "Represents a map, a subtype of CulturalHeritageObject.</li>"
   ]
  },
  {
   "cell_type": "markdown",
   "metadata": {},
   "source": [
    "Now, let's create instances of these classes using the provided CSV data. For brevity, we'll just demonstrate with a few objects"
   ]
  },
  {
   "cell_type": "code",
   "execution_count": null,
   "metadata": {},
   "outputs": [],
   "source": [
    "from impl import *\n",
    "\n",
    "csv_data = [\n",
    "    {\"Id\": \"1\", \"Type\": \"Nautical chart\", \"Title\": \"Nautical chart\", \"Date\": \"1482\", \"Author\": \"Benincasa, Grazioso (ULAN:500114874)\", \"Owner\": \"BUB\", \"Place\": \"Bologna\"},\n",
    "    {\"Id\": \"2\", \"Type\": \"Printed volume\", \"Title\": \"The History of Plants\", \"Date\": \"1497\", \"Author\": \"Teofrasto (VIAF:265397758)\", \"Owner\": \"BUB\", \"Place\": \"Bologna\"},\n",
    "    # More data in /meta.csv from /resources directory\n",
    "]\n",
    "\n",
    "# Function to create instances from CSV data\n",
    "def create_objects_from_csv(data):\n",
    "    objects = []\n",
    "    for item in data:\n",
    "        if item[\"Type\"] == \"Nautical chart\":\n",
    "            obj = NauticalChart(item[\"Id\"], item[\"Title\"], item[\"Owner\"], item[\"Place\"], item[\"Date\"], [Person(\"1\", \"Benincasa, Grazioso\")])\n",
    "        elif item[\"Type\"] == \"Manuscript plate\":\n",
    "            obj = ManuscriptPlate(item[\"Id\"], item[\"Title\"], item[\"Owner\"], item[\"Place\"], item[\"Date\"], [Person(\"2\", \"Teofrasto\")])\n",
    "        # Create other object types as needed...\n",
    "        else:\n",
    "            obj = CulturalHeritageObject(item[\"Id\"], item[\"Title\"], item[\"Owner\"], item[\"Place\"], item[\"Date\"], [Person(\"3\", \"Dioscorides Pedanius\")])\n",
    "        objects.append(obj)\n",
    "    return objects\n",
    "\n",
    "# Create objects from CSV data\n",
    "objects = create_objects_from_csv(csv_data)\n",
    "\n",
    "# Now, let's demonstrate accessing attributes and methods of these objects\n",
    "\n",
    "# Accessing attributes\n",
    "print(objects[0].getId())\n",
    "print(objects[0].getTitle())\n",
    "print(objects[0].getAuthors()[0].getName())\n",
    "\n",
    "# Accessing methods\n",
    "print(objects[1].getDate())"
   ]
  },
  {
   "cell_type": "markdown",
   "metadata": {},
   "source": [
    "## `Activity` classes"
   ]
  },
  {
   "cell_type": "markdown",
   "metadata": {},
   "source": [
    "These classes provide a framework for modeling and managing the different stages involved in the creation of a digital twin of physical cultural heritage objects, allowing for structured representation and tracking of activities, responsible individuals, tools used, and associated timelines."
   ]
  },
  {
   "cell_type": "markdown",
   "metadata": {},
   "source": [
    "<ul>\n",
    "<li>Activity (superclass):<br>\n",
    "Activity serves as a base class for different kinds of processes involved in creating a digital twin of physical cultural heritage objects. It contains attributes such as the responsible person, tools used, start and end dates of the activity, and a reference to the cultural heritage object it pertains to.</li>\n",
    "<li>Acquisition (inherits from Activity):<br>\n",
    "Acquisition represents the process of acquiring data or information related to a cultural heritage object. It inherits attributes and methods from Activity and adds a technique attribute to specify the acquisition technique used.</li>\n",
    "<li>Processing (inherits from Activity):<br>\n",
    "Processing represents the process of manipulating or transforming acquired data or information.</li> It inherits attributes and methods from Activity.</li>\n",
    "<li>Modelling (inherits from Activity):<br>\n",
    "Modelling represents the process of creating a digital model or representation of a physical cultural heritage object. It inherits attributes and methods from Activity.</li>\n",
    "<li>Optimising (inherits from Activity):<br>\n",
    "Optimising represents the process of optimizing or refining the digital twin or its components. It inherits attributes and methods from Activity.</li>\n",
    "<li>Exporting (inherits from Activity):<br>\n",
    "Exporting represents the process of exporting the digital twin or its components for various purposes such as preservation, presentation, or analysis. It inherits attributes and methods from Activity.</li>"
   ]
  },
  {
   "cell_type": "code",
   "execution_count": null,
   "metadata": {},
   "outputs": [],
   "source": [
    "import json\n",
    "import os\n",
    "from impl import *\n",
    "\n",
    "# Load JSON data from file\n",
    "file_path = os.path.join(\"resources\", \"process.json\")\n",
    "with open(file_path, \"r\") as file:\n",
    "    json_data = json.load(file)\n",
    "\n",
    "# Dictionary to store cultural heritage objects by ID\n",
    "cultural_heritage_objects = {}\n",
    "\n",
    "# Creating instances of Activity based on JSON data\n",
    "activities = []\n",
    "for item in json_data:\n",
    "    object_id = item.get(\"object id\")\n",
    "    \n",
    "    # Parse acquisition data\n",
    "    acquisition_data = item.get(\"acquisition\")\n",
    "    if acquisition_data:\n",
    "        institute = acquisition_data.get(\"responsible institute\")\n",
    "        person = acquisition_data.get(\"responsible person\")\n",
    "        technique = acquisition_data.get(\"technique\")\n",
    "        tool = set(acquisition_data.get(\"tool\", []))\n",
    "        start = acquisition_data.get(\"start date\")\n",
    "        end = acquisition_data.get(\"end date\")\n",
    "        \n",
    "        # Create a CulturalHeritageObject instance\n",
    "        acquisition_object = CulturalHeritageObject(\n",
    "            object_id, \n",
    "            acquisition_data.get(\"title\", \"\"), \n",
    "            acquisition_data.get(\"owner\", \"\"), \n",
    "            acquisition_data.get(\"place\", \"\")\n",
    "        )\n",
    "        \n",
    "        acquisition_activity = Acquisition(\n",
    "            refersTo_cho=acquisition_object,\n",
    "            institute=institute,\n",
    "            person=person,\n",
    "            tool=tool,\n",
    "            start=start,\n",
    "            end=end,\n",
    "            technique=technique\n",
    "        )\n",
    "        activities.append(acquisition_activity)\n",
    "\n",
    "# Accessing attributes and methods of the Activity instances\n",
    "for activity in activities:\n",
    "    print(\"Object id:\", activity.getRefersTo_cho())\n",
    "    print(\"Responsible person:\", activity.getResponsiblePerson())\n",
    "    print(\"Tool:\", activity.getTools())\n",
    "    print(\"Start date:\", activity.getStartDate())\n",
    "    print(\"End date:\", activity.getEndDate())\n",
    "    print(activity.getRefersTo())\n"
   ]
  },
  {
   "cell_type": "markdown",
   "metadata": {},
   "source": [
    "## `Handler` classes"
   ]
  },
  {
   "cell_type": "markdown",
   "metadata": {},
   "source": [
    "### `Upload Handler`"
   ]
  },
  {
   "cell_type": "markdown",
   "metadata": {},
   "source": [
    "`ProcessData Upload Handler`"
   ]
  },
  {
   "cell_type": "markdown",
   "metadata": {},
   "source": [
    "In this design, it's reasonable to put the creation and management of the pandas DataFrames (activity_dfs and tools_df) within the ProcessDataUploadHandler class. This class is responsible for handling the processing and uploading of data to SQLite. The method `process_data` is responsible for the creation of the different dataframe.\n",
    "\n",
    "### Dataframes\n",
    "DataFrames are created for each activity type - acquisition, processing, modelling, optimising, exporting - and populated with the relevant data from the JSON file. The use of internal identifiers for the activities and the mapping of object IDs intends to add clarity to the data organization."
   ]
  },
  {
   "cell_type": "code",
   "execution_count": null,
   "metadata": {},
   "outputs": [],
   "source": [
    "import pandas as pd\n",
    "import os\n",
    "import json\n",
    "from handler import *\n",
    "\n",
    "# Print the DataFrames\n",
    "for activity_type, df in activity_dfs.items():\n",
    "    print(f\"{activity_type.capitalize()} DataFrame:\")\n",
    "    print(df)\n",
    "    print()"
   ]
  },
  {
   "cell_type": "markdown",
   "metadata": {},
   "source": [
    "`Metadata Upload Handler`"
   ]
  },
  {
   "cell_type": "markdown",
   "metadata": {},
   "source": [
    "### `Query Handler`"
   ]
  },
  {
   "cell_type": "markdown",
   "metadata": {},
   "source": [
    "`ProcessData Query Handler`"
   ]
  },
  {
   "cell_type": "markdown",
   "metadata": {},
   "source": [
    "`Metadata Query Handler`"
   ]
  },
  {
   "cell_type": "markdown",
   "metadata": {},
   "source": [
    "## `Mashup` classes"
   ]
  },
  {
   "cell_type": "markdown",
   "metadata": {},
   "source": [
    "### `Basic Mashup`"
   ]
  },
  {
   "cell_type": "markdown",
   "metadata": {},
   "source": [
    "### `Advanced Mashup`"
   ]
  }
 ],
 "metadata": {
  "kernelspec": {
   "display_name": "Python 3",
   "language": "python",
   "name": "python3"
  },
  "language_info": {
   "codemirror_mode": {
    "name": "ipython",
    "version": 3
   },
   "file_extension": ".py",
   "mimetype": "text/x-python",
   "name": "python",
   "nbconvert_exporter": "python",
   "pygments_lexer": "ipython3",
   "version": "3.11.5"
  }
 },
 "nbformat": 4,
 "nbformat_minor": 2
}
